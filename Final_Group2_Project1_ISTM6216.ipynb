{
 "cells": [
  {
   "cell_type": "markdown",
   "metadata": {},
   "source": [
    "# Group Project 1"
   ]
  },
  {
   "cell_type": "markdown",
   "metadata": {},
   "source": [
    "## Problem1 Words Count"
   ]
  },
  {
   "cell_type": "markdown",
   "metadata": {},
   "source": [
    "### Part A\n",
    "#### How many times are each of the following characters mentioned by name in the text of The Hound of the Baskervilles?"
   ]
  },
  {
   "cell_type": "code",
   "execution_count": 1,
   "metadata": {},
   "outputs": [
    {
     "name": "stdout",
     "output_type": "stream",
     "text": [
      "--2020-09-25 23:25:15--  https://s3.amazonaws.com/dmfa-2020/project-1/hound.txt\n",
      "Resolving s3.amazonaws.com (s3.amazonaws.com)... 52.217.12.54\n",
      "Connecting to s3.amazonaws.com (s3.amazonaws.com)|52.217.12.54|:443... connected.\n",
      "HTTP request sent, awaiting response... 200 OK\n",
      "Length: 345659 (338K) [text/plain]\n",
      "Saving to: ‘hound.txt’\n",
      "\n",
      "hound.txt           100%[===================>] 337.56K  --.-KB/s    in 0.008s  \n",
      "\n",
      "2020-09-25 23:25:16 (41.1 MB/s) - ‘hound.txt’ saved [345659/345659]\n",
      "\n"
     ]
    }
   ],
   "source": [
    "!wget https://s3.amazonaws.com/dmfa-2020/project-1/hound.txt"
   ]
  },
  {
   "cell_type": "code",
   "execution_count": 1,
   "metadata": {},
   "outputs": [
    {
     "name": "stdout",
     "output_type": "stream",
     "text": [
      "193\n"
     ]
    }
   ],
   "source": [
    "! grep -w -o -i Holmes hound.txt | wc -l"
   ]
  },
  {
   "cell_type": "code",
   "execution_count": 2,
   "metadata": {},
   "outputs": [
    {
     "name": "stdout",
     "output_type": "stream",
     "text": [
      "114\n"
     ]
    }
   ],
   "source": [
    "! grep -w -o -i Watson hound.txt | wc -l"
   ]
  },
  {
   "cell_type": "code",
   "execution_count": 3,
   "metadata": {},
   "outputs": [
    {
     "name": "stdout",
     "output_type": "stream",
     "text": [
      "73\n"
     ]
    }
   ],
   "source": [
    "! grep -w -o -i Barrymore hound.txt | wc -l"
   ]
  },
  {
   "cell_type": "code",
   "execution_count": 4,
   "metadata": {},
   "outputs": [
    {
     "name": "stdout",
     "output_type": "stream",
     "text": [
      "90\n"
     ]
    }
   ],
   "source": [
    "! grep -w -o -i  Mortimer hound.txt | wc -l"
   ]
  },
  {
   "cell_type": "markdown",
   "metadata": {},
   "source": [
    "* Answer: There are 193 Holmes, 114 Walton, 73 Barrymore and 90 Mortimer in the text of the Hound of the Baskervilles.\n",
    "\n",
    "* We use !grep to search for words, -w for limiting the names we want to match to word boundaries, -o for printing only matched parts of a maching line, withe each such part on a separate output line, -i for lowering case all words and -l for displaying the number of words \"Holmes\", \"Watson\", \"Barrymore\", \"Mortimer\"."
   ]
  },
  {
   "cell_type": "markdown",
   "metadata": {},
   "source": [
    "### Part B\n",
    "#### How many times do each of the characters Hamlet, Polonius, Ophelia, and Horatio have speaking lines in Hamlet? Keep in mind that this is the text of a play."
   ]
  },
  {
   "cell_type": "code",
   "execution_count": 2,
   "metadata": {},
   "outputs": [
    {
     "name": "stdout",
     "output_type": "stream",
     "text": [
      "--2020-09-25 23:25:20--  https://s3.amazonaws.com/dmfa-2020/project-1/hamlet.txt\n",
      "Resolving s3.amazonaws.com (s3.amazonaws.com)... 52.216.185.61\n",
      "Connecting to s3.amazonaws.com (s3.amazonaws.com)|52.216.185.61|:443... connected.\n",
      "HTTP request sent, awaiting response... 200 OK\n",
      "Length: 204885 (200K) [text/plain]\n",
      "Saving to: ‘hamlet.txt’\n",
      "\n",
      "hamlet.txt          100%[===================>] 200.08K  --.-KB/s    in 0.006s  \n",
      "\n",
      "2020-09-25 23:25:20 (34.6 MB/s) - ‘hamlet.txt’ saved [204885/204885]\n",
      "\n"
     ]
    }
   ],
   "source": [
    "!wget https://s3.amazonaws.com/dmfa-2020/project-1/hamlet.txt"
   ]
  },
  {
   "cell_type": "code",
   "execution_count": 8,
   "metadata": {},
   "outputs": [
    {
     "name": "stdout",
     "output_type": "stream",
     "text": [
      "360\n"
     ]
    }
   ],
   "source": [
    "!grep -o -w -F \"HAMLET.\" hamlet.txt | wc -l"
   ]
  },
  {
   "cell_type": "code",
   "execution_count": 9,
   "metadata": {},
   "outputs": [
    {
     "name": "stdout",
     "output_type": "stream",
     "text": [
      "86\n"
     ]
    }
   ],
   "source": [
    "! grep -o -w -F \"POLONIUS.\" hamlet.txt | wc -l"
   ]
  },
  {
   "cell_type": "code",
   "execution_count": 10,
   "metadata": {},
   "outputs": [
    {
     "name": "stdout",
     "output_type": "stream",
     "text": [
      "58\n"
     ]
    }
   ],
   "source": [
    "! grep -o -w -F \"OPHELIA.\" hamlet.txt | wc -l"
   ]
  },
  {
   "cell_type": "code",
   "execution_count": 11,
   "metadata": {},
   "outputs": [
    {
     "name": "stdout",
     "output_type": "stream",
     "text": [
      "107\n"
     ]
    }
   ],
   "source": [
    "! grep -o -w -F \"HORATIO.\" hamlet.txt | wc -l"
   ]
  },
  {
   "cell_type": "markdown",
   "metadata": {},
   "source": [
    "* Answer: There are 360 times of character Hamlet, 86 times of character Polonius, 58 times of character Ophelia and 107 times of Horatio having speaking lines in Hamlet. "
   ]
  },
  {
   "cell_type": "code",
   "execution_count": 12,
   "metadata": {
    "collapsed": true,
    "jupyter": {
     "outputs_hidden": true
    }
   },
   "outputs": [
    {
     "name": "stdout",
     "output_type": "stream",
     "text": [
      "HAMLET.\n",
      "HAMLET.\n",
      "HAMLET.\n",
      "HAMLET.\n",
      "HAMLET.\n",
      "HAMLET.\n",
      "HAMLET.\n",
      "HAMLET.\n",
      "HAMLET.\n",
      "HAMLET.\n",
      "HAMLET.\n",
      "HAMLET.\n",
      "HAMLET.\n",
      "HAMLET.\n",
      "HAMLET.\n",
      "HAMLET.\n",
      "HAMLET.\n",
      "HAMLET.\n",
      "HAMLET.\n",
      "HAMLET.\n",
      "HAMLET.\n",
      "HAMLET.\n",
      "HAMLET.\n",
      "HAMLET.\n",
      "HAMLET.\n",
      "HAMLET.\n",
      "HAMLET.\n",
      "HAMLET.\n",
      "HAMLET.\n",
      "HAMLET.\n",
      "HAMLET.\n",
      "HAMLET.\n",
      "HAMLET.\n",
      "HAMLET.\n",
      "HAMLET.\n",
      "HAMLET.\n",
      "HAMLET.\n",
      "HAMLET.\n",
      "HAMLET.\n",
      "HAMLET.\n",
      "HAMLET.\n",
      "HAMLET.\n",
      "HAMLET.\n",
      "HAMLET.\n",
      "HAMLET.\n",
      "HAMLET.\n",
      "HAMLET.\n",
      "HAMLET.\n",
      "HAMLET.\n",
      "HAMLET.\n",
      "HAMLET.\n",
      "HAMLET.\n",
      "HAMLET.\n",
      "HAMLET.\n",
      "HAMLET.\n",
      "HAMLET.\n",
      "HAMLET.\n",
      "HAMLET.\n",
      "HAMLET.\n",
      "HAMLET.\n",
      "HAMLET.\n",
      "HAMLET.\n",
      "HAMLET.\n",
      "HAMLET.\n",
      "HAMLET.\n",
      "HAMLET.\n",
      "HAMLET.\n",
      "HAMLET.\n",
      "HAMLET.\n",
      "HAMLET.\n",
      "HAMLET.\n",
      "HAMLET.\n",
      "HAMLET.\n",
      "HAMLET.\n",
      "HAMLET.\n",
      "HAMLET.\n",
      "HAMLET.\n",
      "HAMLET.\n",
      "HAMLET.\n",
      "HAMLET.\n",
      "HAMLET.\n",
      "HAMLET.\n",
      "HAMLET.\n",
      "HAMLET.\n",
      "HAMLET.\n",
      "HAMLET.\n",
      "HAMLET.\n",
      "HAMLET.\n",
      "HAMLET.\n",
      "HAMLET.\n",
      "HAMLET.\n",
      "HAMLET.\n",
      "HAMLET.\n",
      "HAMLET.\n",
      "HAMLET.\n",
      "HAMLET.\n",
      "HAMLET.\n",
      "HAMLET.\n",
      "HAMLET.\n",
      "HAMLET.\n",
      "HAMLET.\n",
      "HAMLET.\n",
      "HAMLET.\n",
      "HAMLET.\n",
      "HAMLET.\n",
      "HAMLET.\n",
      "HAMLET.\n",
      "HAMLET.\n",
      "HAMLET.\n",
      "HAMLET.\n",
      "HAMLET.\n",
      "HAMLET.\n",
      "HAMLET.\n",
      "HAMLET.\n",
      "HAMLET.\n",
      "HAMLET.\n",
      "HAMLET.\n",
      "HAMLET.\n",
      "HAMLET.\n",
      "HAMLET.\n",
      "HAMLET.\n",
      "HAMLET.\n",
      "HAMLET.\n",
      "HAMLET.\n",
      "HAMLET.\n",
      "HAMLET.\n",
      "HAMLET.\n",
      "HAMLET.\n",
      "HAMLET.\n",
      "HAMLET.\n",
      "HAMLET.\n",
      "HAMLET.\n",
      "HAMLET.\n",
      "HAMLET.\n",
      "HAMLET.\n",
      "HAMLET.\n",
      "HAMLET.\n",
      "HAMLET.\n",
      "HAMLET.\n",
      "HAMLET.\n",
      "HAMLET.\n",
      "HAMLET.\n",
      "HAMLET.\n",
      "HAMLET.\n",
      "HAMLET.\n",
      "HAMLET.\n",
      "HAMLET.\n",
      "HAMLET.\n",
      "HAMLET.\n",
      "HAMLET.\n",
      "HAMLET.\n",
      "HAMLET.\n",
      "HAMLET.\n",
      "HAMLET.\n",
      "HAMLET.\n",
      "HAMLET.\n",
      "HAMLET.\n",
      "HAMLET.\n",
      "HAMLET.\n",
      "HAMLET.\n",
      "HAMLET.\n",
      "HAMLET.\n",
      "HAMLET.\n",
      "HAMLET.\n",
      "HAMLET.\n",
      "HAMLET.\n",
      "HAMLET.\n",
      "HAMLET.\n",
      "HAMLET.\n",
      "HAMLET.\n",
      "HAMLET.\n",
      "HAMLET.\n",
      "HAMLET.\n",
      "HAMLET.\n",
      "HAMLET.\n",
      "HAMLET.\n",
      "HAMLET.\n",
      "HAMLET.\n",
      "HAMLET.\n",
      "HAMLET.\n",
      "HAMLET.\n",
      "HAMLET.\n",
      "HAMLET.\n",
      "HAMLET.\n",
      "HAMLET.\n",
      "HAMLET.\n",
      "HAMLET.\n",
      "HAMLET.\n",
      "HAMLET.\n",
      "HAMLET.\n",
      "HAMLET.\n",
      "HAMLET.\n",
      "HAMLET.\n",
      "HAMLET.\n",
      "HAMLET.\n",
      "HAMLET.\n",
      "HAMLET.\n",
      "HAMLET.\n",
      "HAMLET.\n",
      "HAMLET.\n",
      "HAMLET.\n",
      "HAMLET.\n",
      "HAMLET.\n",
      "HAMLET.\n",
      "HAMLET.\n",
      "HAMLET.\n",
      "HAMLET.\n",
      "HAMLET.\n",
      "HAMLET.\n",
      "HAMLET.\n",
      "HAMLET.\n",
      "HAMLET.\n",
      "HAMLET.\n",
      "HAMLET.\n",
      "HAMLET.\n",
      "HAMLET.\n",
      "HAMLET.\n",
      "HAMLET.\n",
      "HAMLET.\n",
      "HAMLET.\n",
      "HAMLET.\n",
      "HAMLET.\n",
      "HAMLET.\n",
      "HAMLET.\n",
      "HAMLET.\n",
      "HAMLET.\n",
      "HAMLET.\n",
      "HAMLET.\n",
      "HAMLET.\n",
      "HAMLET.\n",
      "HAMLET.\n",
      "HAMLET.\n",
      "HAMLET.\n",
      "HAMLET.\n",
      "HAMLET.\n",
      "HAMLET.\n",
      "HAMLET.\n",
      "HAMLET.\n",
      "HAMLET.\n",
      "HAMLET.\n",
      "HAMLET.\n",
      "HAMLET.\n",
      "HAMLET.\n",
      "HAMLET.\n",
      "HAMLET.\n",
      "HAMLET.\n",
      "HAMLET.\n",
      "HAMLET.\n",
      "HAMLET.\n",
      "HAMLET.\n",
      "HAMLET.\n",
      "HAMLET.\n",
      "HAMLET.\n",
      "HAMLET.\n",
      "HAMLET.\n",
      "HAMLET.\n",
      "HAMLET.\n",
      "HAMLET.\n",
      "HAMLET.\n",
      "HAMLET.\n",
      "HAMLET.\n",
      "HAMLET.\n",
      "HAMLET.\n",
      "HAMLET.\n",
      "HAMLET.\n",
      "HAMLET.\n",
      "HAMLET.\n",
      "HAMLET.\n",
      "HAMLET.\n",
      "HAMLET.\n",
      "HAMLET.\n",
      "HAMLET.\n",
      "HAMLET.\n",
      "HAMLET.\n",
      "HAMLET.\n",
      "HAMLET.\n",
      "HAMLET.\n",
      "HAMLET.\n",
      "HAMLET.\n",
      "HAMLET.\n",
      "HAMLET.\n",
      "HAMLET.\n",
      "HAMLET.\n",
      "HAMLET.\n",
      "HAMLET.\n",
      "HAMLET.\n",
      "HAMLET.\n",
      "HAMLET.\n",
      "HAMLET.\n",
      "HAMLET.\n",
      "HAMLET.\n",
      "HAMLET.\n",
      "HAMLET.\n",
      "HAMLET.\n",
      "HAMLET.\n",
      "HAMLET.\n",
      "HAMLET.\n",
      "HAMLET.\n",
      "HAMLET.\n",
      "HAMLET.\n",
      "HAMLET.\n",
      "HAMLET.\n",
      "HAMLET.\n",
      "HAMLET.\n",
      "HAMLET.\n",
      "HAMLET.\n",
      "HAMLET.\n",
      "HAMLET.\n",
      "HAMLET.\n",
      "HAMLET.\n",
      "HAMLET.\n",
      "HAMLET.\n",
      "HAMLET.\n",
      "HAMLET.\n",
      "HAMLET.\n",
      "HAMLET.\n",
      "HAMLET.\n",
      "HAMLET.\n",
      "HAMLET.\n",
      "HAMLET.\n",
      "HAMLET.\n",
      "HAMLET.\n",
      "HAMLET.\n",
      "HAMLET.\n",
      "HAMLET.\n",
      "HAMLET.\n",
      "HAMLET.\n",
      "HAMLET.\n",
      "HAMLET.\n",
      "HAMLET.\n",
      "HAMLET.\n",
      "HAMLET.\n",
      "HAMLET.\n",
      "HAMLET.\n",
      "HAMLET.\n",
      "HAMLET.\n",
      "HAMLET.\n",
      "HAMLET.\n",
      "HAMLET.\n",
      "HAMLET.\n",
      "HAMLET.\n",
      "HAMLET.\n",
      "HAMLET.\n",
      "HAMLET.\n",
      "HAMLET.\n",
      "HAMLET.\n",
      "HAMLET.\n",
      "HAMLET.\n",
      "HAMLET.\n",
      "HAMLET.\n",
      "HAMLET.\n",
      "HAMLET.\n",
      "HAMLET.\n",
      "HAMLET.\n",
      "HAMLET.\n",
      "HAMLET.\n",
      "HAMLET.\n",
      "HAMLET.\n",
      "HAMLET.\n",
      "HAMLET.\n"
     ]
    }
   ],
   "source": [
    "!grep -o -w -F \"HAMLET.\" hamlet.txt"
   ]
  },
  {
   "cell_type": "markdown",
   "metadata": {},
   "source": [
    "* The last command shows that we can use the command to get the write uppercased name with a dot so that we can know which sentences are the characters' speaking lines.\n",
    "\n",
    "* We use -F to fix the string we want to search and interpret 'the name with a dot' as a list of fixed string, separate by newline, any of which is to be matched\n",
    "\n",
    "* Reference:  https://www.explainshell.com/explain?cmd=grep+-o+-w+-F+%22HAMLET.%22+hamlet.txt%7C+wc+-l\n",
    "\n",
    "        "
   ]
  },
  {
   "cell_type": "markdown",
   "metadata": {},
   "source": [
    "## Problem 2 - Capital Bikeshare"
   ]
  },
  {
   "cell_type": "markdown",
   "metadata": {},
   "source": [
    "### Part A"
   ]
  },
  {
   "cell_type": "code",
   "execution_count": 1,
   "metadata": {},
   "outputs": [
    {
     "name": "stdout",
     "output_type": "stream",
     "text": [
      "--2020-09-27 14:54:50--  https://s3.amazonaws.com/dmfa-2020/project-1/2018-capitalbikeshare-tripdata.zip\n",
      "Resolving s3.amazonaws.com (s3.amazonaws.com)... 52.216.177.77\n",
      "Connecting to s3.amazonaws.com (s3.amazonaws.com)|52.216.177.77|:443... connected.\n",
      "HTTP request sent, awaiting response... 200 OK\n",
      "Length: 18365732 (18M) [application/zip]\n",
      "Saving to: ‘2018-capitalbikeshare-tripdata.zip’\n",
      "\n",
      "2018-capitalbikesha 100%[===================>]  17.51M  93.9MB/s    in 0.2s    \n",
      "\n",
      "2020-09-27 14:54:51 (93.9 MB/s) - ‘2018-capitalbikeshare-tripdata.zip’ saved [18365732/18365732]\n",
      "\n"
     ]
    }
   ],
   "source": [
    "! wget https://s3.amazonaws.com/dmfa-2020/project-1/2018-capitalbikeshare-tripdata.zip"
   ]
  },
  {
   "cell_type": "code",
   "execution_count": 2,
   "metadata": {},
   "outputs": [
    {
     "name": "stdout",
     "output_type": "stream",
     "text": [
      "Archive:  2018-capitalbikeshare-tripdata.zip\n",
      "  inflating: 201807-capitalbikeshare-tripdata.csv  \n",
      "  inflating: 201808-capitalbikeshare-tripdata.csv  \n"
     ]
    }
   ],
   "source": [
    "! unzip 2018-capitalbikeshare-tripdata.zip"
   ]
  },
  {
   "cell_type": "markdown",
   "metadata": {},
   "source": [
    "#### 1. Unzip the data and combine the two CSV files using csvstack."
   ]
  },
  {
   "cell_type": "code",
   "execution_count": 3,
   "metadata": {},
   "outputs": [],
   "source": [
    "! csvstack 201807-capitalbikeshare-tripdata.csv 201808-capitalbikeshare-tripdata.csv > biketrip.csv"
   ]
  },
  {
   "cell_type": "code",
   "execution_count": 4,
   "metadata": {},
   "outputs": [
    {
     "name": "stdout",
     "output_type": "stream",
     "text": [
      "| Duration |          Start date |            End date | Start station number | Start station                  | End station number | End station                                  | Bike number | Member type |\n",
      "| -------- | ------------------- | ------------------- | -------------------- | ------------------------------ | ------------------ | -------------------------------------------- | ----------- | ----------- |\n",
      "|      267 | 2018-07-01 00:00:58 | 2018-07-01 00:05:26 |               31,608 | 8th & Eye St SE / Barracks Row |             31,610 | Eastern Market / 7th & North Carolina Ave SE | W23296      | Member      |\n",
      "|      530 | 2018-07-01 00:01:00 | 2018-07-01 00:09:50 |               31,230 | Metro Center / 12th & G St NW  |             31,266 | 11th & M St NW                               | W20838      | Member      |\n",
      "|    3,223 | 2018-07-01 00:01:07 | 2018-07-01 00:54:50 |               31,620 | 5th & F St NW                  |             31,289 | Henry Bacon Dr & Lincoln Memorial Circle NW  | W22733      | Member      |\n",
      "|    2,153 | 2018-07-01 00:01:13 | 2018-07-01 00:37:06 |               31,258 | Lincoln Memorial               |             31,208 | M St & New Jersey Ave SE                     | W00196      | Casual      |\n",
      "|    3,214 | 2018-07-01 00:01:13 | 2018-07-01 00:54:47 |               31,620 | 5th & F St NW                  |             31,289 | Henry Bacon Dr & Lincoln Memorial Circle NW  | W21070      | Member      |\n",
      "|    3,826 | 2018-07-01 00:01:14 | 2018-07-01 01:05:00 |               31,217 | USDA / 12th & C St SW          |             31,222 | New York Ave & 15th St NW                    | W21845      | Casual      |\n",
      "|    1,585 | 2018-07-01 00:01:16 | 2018-07-01 00:27:41 |               31,265 | 5th St & Massachusetts Ave NW  |             31,520 | 24th & R St NE / National Arboretum          | W22025      | Member      |\n",
      "|    2,285 | 2018-07-01 00:01:25 | 2018-07-01 00:39:30 |               31,258 | Lincoln Memorial               |             31,209 | 1st & N St  SE                               | W22145      | Casual      |\n",
      "|      742 | 2018-07-01 00:01:45 | 2018-07-01 00:14:08 |               31,609 | Maine Ave & 7th St SW          |             31,228 | 8th & H St NW                                | W21379      | Member      |\n"
     ]
    }
   ],
   "source": [
    "! head biketrip.csv | csvlook"
   ]
  },
  {
   "cell_type": "code",
   "execution_count": 21,
   "metadata": {},
   "outputs": [
    {
     "name": "stdout",
     "output_type": "stream",
     "text": [
      "  1: Duration\n",
      "  2: Start date\n",
      "  3: End date\n",
      "  4: Start station number\n",
      "  5: Start station\n",
      "  6: End station number\n",
      "  7: End station\n",
      "  8: Bike number\n",
      "  9: Member type\n"
     ]
    }
   ],
   "source": [
    "!csvcut -n biketrip.csv"
   ]
  },
  {
   "cell_type": "markdown",
   "metadata": {},
   "source": [
    "#### 2. Which 10 Capital Bikeshare stations were the most popular departing stations in July and August 2018?"
   ]
  },
  {
   "cell_type": "code",
   "execution_count": 5,
   "metadata": {},
   "outputs": [],
   "source": [
    "! csvcut -c 4,5 biketrip.csv > populardeparting.csv"
   ]
  },
  {
   "cell_type": "code",
   "execution_count": 6,
   "metadata": {},
   "outputs": [
    {
     "name": "stdout",
     "output_type": "stream",
     "text": [
      "  15474 31258,Lincoln Memorial\n",
      "  13082 31623,Columbus Circle / Union Station\n",
      "  11999 31247,Jefferson Dr & 14th St SW\n",
      "  11671 31289,Henry Bacon Dr & Lincoln Memorial Circle NW\n",
      "  11650 31288,4th St & Madison Dr NW\n",
      "  10357 31248,Smithsonian-National Mall / Jefferson Dr & 12th St SW\n",
      "   9554 31249,Jefferson Memorial\n",
      "   8620 31290,17th St & Independence Ave SW\n",
      "   8583 31200,Massachusetts Ave & Dupont Circle NW\n",
      "   8569 31201,15th & P St NW\n"
     ]
    }
   ],
   "source": [
    "! sort -rn populardeparting.csv | uniq -c| sort -rn| head -10"
   ]
  },
  {
   "cell_type": "markdown",
   "metadata": {},
   "source": [
    "* Answer: We use !csvcut to combine the start station number and name column into a new file called populardeparting.csv. Then we use !sort to sort the file and choose the station number which is repeated for many time. Each station number just stands for one station name. The most 10 popular departing stations are shown above."
   ]
  },
  {
   "cell_type": "markdown",
   "metadata": {},
   "source": [
    "#### Which 10 stations were the most popular destination stations in July and August 2018?"
   ]
  },
  {
   "cell_type": "code",
   "execution_count": 7,
   "metadata": {},
   "outputs": [],
   "source": [
    "! csvcut -c 6,7 biketrip.csv > populardestination.csv"
   ]
  },
  {
   "cell_type": "code",
   "execution_count": 8,
   "metadata": {},
   "outputs": [
    {
     "name": "stdout",
     "output_type": "stream",
     "text": [
      "  15642 31258,Lincoln Memorial\n",
      "  13635 31623,Columbus Circle / Union Station\n",
      "  12135 31247,Jefferson Dr & 14th St SW\n",
      "  11722 31289,Henry Bacon Dr & Lincoln Memorial Circle NW\n",
      "  11555 31288,4th St & Madison Dr NW\n",
      "  10693 31248,Smithsonian-National Mall / Jefferson Dr & 12th St SW\n",
      "   9866 31249,Jefferson Memorial\n",
      "   9141 31200,Massachusetts Ave & Dupont Circle NW\n",
      "   8884 31201,15th & P St NW\n",
      "   8640 31290,17th St & Independence Ave SW\n"
     ]
    }
   ],
   "source": [
    "! sort populardestination.csv |uniq -c| sort -rn| head -10"
   ]
  },
  {
   "cell_type": "markdown",
   "metadata": {},
   "source": [
    "* Answer: We use !csvcut to combine the end station number and name column into a new file called populardestination.csv. Then we use !sort to sort the file and choose the station number which is repeated for many time. Each station number just stands for one station name. The most 10 popular destination stations are shown above."
   ]
  },
  {
   "cell_type": "markdown",
   "metadata": {},
   "source": [
    "## Part B\n",
    "#### 1. For the most popular departure station, which 10 bikes were used most in trips departing from there?"
   ]
  },
  {
   "cell_type": "code",
   "execution_count": 36,
   "metadata": {},
   "outputs": [
    {
     "name": "stdout",
     "output_type": "stream",
     "text": [
      "     18 31258,Lincoln Memorial,W01311\n",
      "     17 31258,Lincoln Memorial,W22553\n",
      "     16 31258,Lincoln Memorial,W00919\n",
      "     15 31258,Lincoln Memorial,W23074\n",
      "     15 31258,Lincoln Memorial,W22567\n",
      "     15 31258,Lincoln Memorial,W21882\n",
      "     15 31258,Lincoln Memorial,W20527\n",
      "     14 31258,Lincoln Memorial,W23311\n",
      "     14 31258,Lincoln Memorial,W23003\n",
      "     14 31258,Lincoln Memorial,W22369\n",
      "sort: write failed: 'standard output': Broken pipe\n",
      "sort: write error\n"
     ]
    }
   ],
   "source": [
    "!csvgrep -c5 -r \"^Lincoln Memorial\" biketrip.csv | csvcut -c4-5,8 | csvgrep -c3 -r \"^W\" | sort | uniq -c | sort -rn | head "
   ]
  },
  {
   "cell_type": "code",
   "execution_count": 10,
   "metadata": {},
   "outputs": [
    {
     "name": "stdout",
     "output_type": "stream",
     "text": [
      "     18 31258,Lincoln Memorial,W01311\n",
      "     17 31258,Lincoln Memorial,W22553\n",
      "     16 31258,Lincoln Memorial,W00919\n",
      "     15 31258,Lincoln Memorial,W23074\n",
      "     15 31258,Lincoln Memorial,W22567\n",
      "     15 31258,Lincoln Memorial,W21882\n",
      "     15 31258,Lincoln Memorial,W20527\n",
      "     14 31258,Lincoln Memorial,W23311\n",
      "     14 31258,Lincoln Memorial,W23003\n",
      "     14 31258,Lincoln Memorial,W22369\n",
      "sort: write failed: 'standard output': Broken pipe\n",
      "sort: write error\n"
     ]
    }
   ],
   "source": [
    "!csvgrep -c 4 -r \"31258\" biketrip.csv | csvcut -c 4,5,8 | csvgrep -c3 -r \"^W\" | sort | uniq -c | sort -rn | head "
   ]
  },
  {
   "cell_type": "markdown",
   "metadata": {},
   "source": [
    "* Answer: We use two command lines to find the most 10 bikes used from the departing station. The 1st command provides the station Lincoln Memorial which has the top 10 bikes used but there is other station which also includes the term \"Lincoln Memorial\", so we use the 2nd command line to find the repeated station number to make sure that the results are correct.\n",
    "\n",
    "* For the most popular departure station, the most 10 bikes are shown above\n"
   ]
  },
  {
   "cell_type": "markdown",
   "metadata": {},
   "source": [
    "#### 2. Which 10 bikes were used most in trips ending at the most popular destination station?"
   ]
  },
  {
   "cell_type": "code",
   "execution_count": 37,
   "metadata": {},
   "outputs": [
    {
     "name": "stdout",
     "output_type": "stream",
     "text": [
      "     17 31258,Lincoln Memorial,W22553\n",
      "     17 31258,Lincoln Memorial,W01311\n",
      "     16 31258,Lincoln Memorial,W21882\n",
      "     16 31258,Lincoln Memorial,W20527\n",
      "     16 31258,Lincoln Memorial,W00919\n",
      "     15 31258,Lincoln Memorial,W22567\n",
      "     15 31258,Lincoln Memorial,W22369\n",
      "     14 31258,Lincoln Memorial,W23311\n",
      "     14 31258,Lincoln Memorial,W23074\n",
      "     14 31258,Lincoln Memorial,W23003\n",
      "sort: write failed: 'standard output': Broken pipe\n",
      "sort: write error\n"
     ]
    }
   ],
   "source": [
    "!csvgrep -c7 -r \"^Lincoln Memorial\" biketrip.csv | csvcut -c6-7,8 | csvgrep -c3 -r \"^W\" | sort | uniq -c | sort -rn | head "
   ]
  },
  {
   "cell_type": "code",
   "execution_count": 11,
   "metadata": {},
   "outputs": [
    {
     "name": "stdout",
     "output_type": "stream",
     "text": [
      "     17 31258,Lincoln Memorial,W22553\n",
      "     17 31258,Lincoln Memorial,W01311\n",
      "     16 31258,Lincoln Memorial,W21882\n",
      "     16 31258,Lincoln Memorial,W20527\n",
      "     16 31258,Lincoln Memorial,W00919\n",
      "     15 31258,Lincoln Memorial,W22567\n",
      "     15 31258,Lincoln Memorial,W22369\n",
      "     14 31258,Lincoln Memorial,W23311\n",
      "     14 31258,Lincoln Memorial,W23074\n",
      "     14 31258,Lincoln Memorial,W23003\n",
      "sort: write failed: 'standard output': Broken pipe\n",
      "sort: write error\n"
     ]
    }
   ],
   "source": [
    "!csvgrep -c 6 -r \"31258\" biketrip.csv | csvcut -c 6,7,8 | csvgrep -c3 -r \"^W\" | sort | uniq -c | sort -rn | head "
   ]
  },
  {
   "cell_type": "markdown",
   "metadata": {},
   "source": [
    "* Answer: We use two command lines to find the most 10 bikes used from the destination station. The 1st command provides the station Lincoln Memorial which has the top 10 bikes used but there is other station which also includes the term \"Lincoln Memorial\", so we use the 2nd command line to find the repeated station number to make sure that the results are correct.\n",
    "\n",
    "* For the most popular destination station, the most 10 bikes are shown above"
   ]
  },
  {
   "cell_type": "markdown",
   "metadata": {},
   "source": [
    "## Problem 3 Filters"
   ]
  },
  {
   "cell_type": "markdown",
   "metadata": {},
   "source": [
    "### Part A"
   ]
  },
  {
   "cell_type": "markdown",
   "metadata": {},
   "source": [
    "#### 1. Demonstrate a pipeline that performs a count of the top ten most common words in The Hound of the Baskervilles."
   ]
  },
  {
   "cell_type": "code",
   "execution_count": 13,
   "metadata": {},
   "outputs": [
    {
     "name": "stdout",
     "output_type": "stream",
     "text": [
      "   3515 the\n",
      "   1716 of\n",
      "   1696 and\n",
      "   1501 i\n",
      "   1488 to\n",
      "   1369 a\n",
      "   1159 that\n",
      "   1025 it\n",
      "    968 in\n",
      "    922 he\n",
      "sort: write failed: 'standard output': Broken pipe\n",
      "sort: write error\n"
     ]
    }
   ],
   "source": [
    "!grep -oE '\\w{{1,}}' hound.txt \\\n",
    "    | tr '[:upper:]' '[:lower:]' \\\n",
    "    | sort \\\n",
    "    | uniq -c \\\n",
    "    | sort -rn \\\n",
    "    | head -10"
   ]
  },
  {
   "cell_type": "code",
   "execution_count": 12,
   "metadata": {},
   "outputs": [
    {
     "name": "stdout",
     "output_type": "stream",
     "text": [
      "   3515 the\n",
      "   1716 of\n",
      "   1696 and\n",
      "   1501 i\n",
      "   1488 to\n",
      "   1369 a\n",
      "   1159 that\n",
      "   1025 it\n",
      "    968 in\n",
      "    922 he\n",
      "sort: write failed: 'standard output': Broken pipe\n",
      "sort: write error\n"
     ]
    }
   ],
   "source": [
    "!cat hound.txt | tr -sc '[:alpha:]' '[\\n*]' | tr '[:upper:]' '[:lower:]' | sort | uniq -c | sort -rn | head -10"
   ]
  },
  {
   "cell_type": "markdown",
   "metadata": {},
   "source": [
    "* Answer: There are two ways to create a pipeline that performs a count of the top ten most common words in The Hound of The Baskervilles. "
   ]
  },
  {
   "cell_type": "markdown",
   "metadata": {},
   "source": [
    "#### 2. Write your own lowercase filter that replaces tr [:upper:] [:lower:] to transform text into lower case."
   ]
  },
  {
   "cell_type": "code",
   "execution_count": 3,
   "metadata": {},
   "outputs": [],
   "source": [
    "!chmod +x lowercase.py"
   ]
  },
  {
   "cell_type": "code",
   "execution_count": 6,
   "metadata": {},
   "outputs": [
    {
     "name": "stdout",
     "output_type": "stream",
     "text": [
      "project gutenberg’s the hound of the baskervilles, by a. conan doyle\n",
      "\n",
      "this ebook is for the use of anyone anywhere at no cost and with\n",
      "almost no restrictions whatsoever.  you may copy it, give it away or\n",
      "re-use it under the terms of the project gutenberg license included\n",
      "with this ebook or online at www.gutenberg.org\n",
      "\n",
      "\n",
      "title: the hound of the baskervilles\n",
      "\n",
      "Traceback (most recent call last):\n",
      "  File \"./lowercase.py\", line 10, in <module>\n",
      "    print(txt.lower())\n",
      "BrokenPipeError: [Errno 32] Broken pipe\n",
      "cat: write error: Broken pipe\n"
     ]
    }
   ],
   "source": [
    "!cat hound.txt | ./lowercase.py | head"
   ]
  },
  {
   "cell_type": "code",
   "execution_count": 41,
   "metadata": {},
   "outputs": [
    {
     "name": "stdout",
     "output_type": "stream",
     "text": [
      "cat: write error: Broken pipe\n"
     ]
    }
   ],
   "source": [
    "!cat hound.txt | ./lowercase.py > lowercasehound.txt"
   ]
  },
  {
   "cell_type": "markdown",
   "metadata": {},
   "source": [
    "* Answer: We created a python file named lowercase.py which contains codes to make the text in the file to become lower case"
   ]
  },
  {
   "cell_type": "markdown",
   "metadata": {},
   "source": [
    "#### 3. With your new filter, repeat the original pipeline, and substitute your new filters as appropriate."
   ]
  },
  {
   "cell_type": "code",
   "execution_count": 7,
   "metadata": {},
   "outputs": [
    {
     "name": "stdout",
     "output_type": "stream",
     "text": [
      "cat: write error: Broken pipe\n",
      "   3515 the\n",
      "   1716 of\n",
      "   1696 and\n",
      "   1501 i\n",
      "   1488 to\n",
      "   1369 a\n",
      "   1159 that\n",
      "   1025 it\n",
      "    968 in\n",
      "    922 he\n",
      "sort: write failed: 'standard output': Broken pipe\n",
      "sort: write error\n"
     ]
    }
   ],
   "source": [
    "!cat hound.txt | ./lowercase.py | grep -oE '\\w{{1,}}'| sort |uniq -c | sort -rn|head"
   ]
  },
  {
   "cell_type": "markdown",
   "metadata": {},
   "source": [
    "### Part B\n",
    "### 1. Write a filter that removes at least ten common words of English text, commonly known as “stop words”. \n",
    "#### We searched stopwords online and choose almost 20 stopwords and already generated stopwords list in the simplefilter.py. We will filter the text to exclude these words. "
   ]
  },
  {
   "cell_type": "code",
   "execution_count": 47,
   "metadata": {},
   "outputs": [
    {
     "name": "stdout",
     "output_type": "stream",
     "text": [
      "project gutenberg’s the hound of the baskervilles, by a. conan doyle\n",
      "\n",
      "this ebook is for the use of anyone anywhere at no cost and with\n",
      "almost no restrictions whatsoever.  you may copy it, give it away or\n",
      "re-use it under the terms of the project gutenberg license included\n",
      "with this ebook or online at www.gutenberg.org\n",
      "\n",
      "\n",
      "title: the hound of the baskervilles\n",
      "\n"
     ]
    }
   ],
   "source": [
    "!head lowercasehound.txt"
   ]
  },
  {
   "cell_type": "code",
   "execution_count": 48,
   "metadata": {},
   "outputs": [],
   "source": [
    "! touch filteredhound.txt"
   ]
  },
  {
   "cell_type": "code",
   "execution_count": 49,
   "metadata": {},
   "outputs": [],
   "source": [
    "!chmod +x simplefilter.py"
   ]
  },
  {
   "cell_type": "code",
   "execution_count": 50,
   "metadata": {},
   "outputs": [
    {
     "name": "stdout",
     "output_type": "stream",
     "text": [
      "cat: write error: Broken pipe\n"
     ]
    }
   ],
   "source": [
    "!cat lowercasehound.txt | ./simplefilter.py > filteredhound.txt"
   ]
  },
  {
   "cell_type": "code",
   "execution_count": 51,
   "metadata": {},
   "outputs": [
    {
     "name": "stdout",
     "output_type": "stream",
     "text": [
      "['project', 'gutenberg’s', 'hound', 'baskervilles,', 'a.', 'conan', 'doyle']\n",
      "[]\n",
      "['this', 'ebook', 'use', 'anyone', 'anywhere', 'cost', 'with']\n",
      "['almost', 'restrictions', 'whatsoever.', 'may', 'copy', 'it,', 'give', 'it', 'away', 'or']\n",
      "['re-use', 'it', 'under', 'terms', 'project', 'gutenberg', 'license', 'included']\n",
      "['with', 'this', 'ebook', 'or', 'online', 'www.gutenberg.org']\n",
      "[]\n",
      "[]\n",
      "['title:', 'hound', 'baskervilles']\n",
      "[]\n"
     ]
    }
   ],
   "source": [
    "!head filteredhound.txt"
   ]
  },
  {
   "cell_type": "markdown",
   "metadata": {},
   "source": [
    "* Answer: We used the filter to delete the stopwords (the, of, by, is, for, of, at, no, and, you) from hound.txt and we saved it into a new file, filteredhound.txt. This step can be prepared for the following question."
   ]
  },
  {
   "cell_type": "markdown",
   "metadata": {},
   "source": [
    "### 2. Add your stop word filter to a word count pipeline and show the most common 25 words in The Hound of the Baskervilles when stop words are removed. "
   ]
  },
  {
   "cell_type": "code",
   "execution_count": 52,
   "metadata": {},
   "outputs": [],
   "source": [
    "!chmod +x simplefilter2.py"
   ]
  },
  {
   "cell_type": "code",
   "execution_count": 53,
   "metadata": {},
   "outputs": [
    {
     "name": "stdout",
     "output_type": "stream",
     "text": [
      "'to' 1475\n",
      "'a' 1342\n",
      "'i' 1283\n",
      "'that' 1098\n",
      "'in' 953\n",
      "'he' 879\n",
      "'it' 867\n",
      "'was' 799\n",
      "'his' 683\n",
      "'have' 539\n",
      "'had' 503\n",
      "'with' 484\n",
      "'my' 451\n",
      "'we' 436\n",
      "'which' 424\n",
      "'as' 412\n",
      "'not' 376\n",
      "'this' 364\n",
      "'but' 351\n",
      "'be' 348\n",
      "'sir' 320\n",
      "'upon' 315\n",
      "'me' 298\n",
      "'from' 296\n",
      "'him' 294\n",
      "cat: write error: Broken pipe\n"
     ]
    }
   ],
   "source": [
    "!cat filteredhound.txt | ./simplefilter2.py"
   ]
  },
  {
   "cell_type": "markdown",
   "metadata": {},
   "source": [
    "Answer: The most common 25 words in The Hound of the Baskervilles when stop words are removed are shown above."
   ]
  },
  {
   "cell_type": "markdown",
   "metadata": {},
   "source": [
    "#### Reference: https://stackoverflow.com/questions/21722955/counting-words-in-a-file-using-counter-object "
   ]
  }
 ],
 "metadata": {
  "kernelspec": {
   "display_name": "Python 3",
   "language": "python",
   "name": "python3"
  },
  "language_info": {
   "codemirror_mode": {
    "name": "ipython",
    "version": 3
   },
   "file_extension": ".py",
   "mimetype": "text/x-python",
   "name": "python",
   "nbconvert_exporter": "python",
   "pygments_lexer": "ipython3",
   "version": "3.7.6"
  }
 },
 "nbformat": 4,
 "nbformat_minor": 4
}
